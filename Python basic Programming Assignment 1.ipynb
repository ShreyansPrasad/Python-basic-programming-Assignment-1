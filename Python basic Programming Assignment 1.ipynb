{
 "cells": [
  {
   "cell_type": "markdown",
   "id": "32c0af63",
   "metadata": {},
   "source": [
    "#Answer1"
   ]
  },
  {
   "cell_type": "code",
   "execution_count": 1,
   "id": "f1fa52f4",
   "metadata": {},
   "outputs": [
    {
     "name": "stdout",
     "output_type": "stream",
     "text": [
      "Hello Python\n"
     ]
    }
   ],
   "source": [
    "a=\"Hello Python\"\n",
    "print(a)"
   ]
  },
  {
   "cell_type": "markdown",
   "id": "a4aa33bf",
   "metadata": {},
   "source": [
    "#Answer2"
   ]
  },
  {
   "cell_type": "code",
   "execution_count": 5,
   "id": "af397030",
   "metadata": {},
   "outputs": [
    {
     "name": "stdout",
     "output_type": "stream",
     "text": [
      "Enter 1st no.13\n",
      "Enter 2nd no.5\n",
      "The sum is: 18\n",
      "The division is: 2.6\n"
     ]
    }
   ],
   "source": [
    "a=int(input(\"Enter 1st no.\"))\n",
    "b=int(input(\"Enter 2nd no.\"))\n",
    "c=a+b\n",
    "d=a/b\n",
    "print(\"The sum is:\",c)\n",
    "print(\"The division is:\",d)"
   ]
  },
  {
   "cell_type": "markdown",
   "id": "70efe4f3",
   "metadata": {},
   "source": [
    "#Answer3"
   ]
  },
  {
   "cell_type": "code",
   "execution_count": 9,
   "id": "d29cba5b",
   "metadata": {},
   "outputs": [
    {
     "name": "stdout",
     "output_type": "stream",
     "text": [
      "Enter 1st side5\n",
      "Enter 2nd side6\n",
      "Enter 3rd side7\n",
      "Area of triangle is: 14.696938456699069\n"
     ]
    }
   ],
   "source": [
    "a=float(input(\"Enter 1st side\"))\n",
    "b=float(input(\"Enter 2nd side\"))\n",
    "c=float(input(\"Enter 3rd side\"))\n",
    "s=(a+b+c)/2\n",
    "area=(s*(s-a)*(s-b)*(s-c))**0.5\n",
    "print(\"Area of triangle is:\",area)"
   ]
  },
  {
   "cell_type": "markdown",
   "id": "e66eedce",
   "metadata": {},
   "source": [
    "#Answer4"
   ]
  },
  {
   "cell_type": "code",
   "execution_count": 10,
   "id": "bb8a9138",
   "metadata": {},
   "outputs": [
    {
     "name": "stdout",
     "output_type": "stream",
     "text": [
      "Enter value of x 7\n",
      "Enter value of y 5\n",
      "The value of x is: 5\n",
      "The value of y is: 7\n"
     ]
    }
   ],
   "source": [
    "x=input(\"Enter value of x \")\n",
    "y=input(\"Enter value of y \")\n",
    "z=x\n",
    "x=y\n",
    "y=z\n",
    "print(\"The value of x is:\", x)\n",
    "print(\"The value of y is:\", y)"
   ]
  },
  {
   "cell_type": "markdown",
   "id": "6194b862",
   "metadata": {},
   "source": [
    "#Answer5"
   ]
  },
  {
   "cell_type": "code",
   "execution_count": 11,
   "id": "ae2e6bb9",
   "metadata": {},
   "outputs": [
    {
     "name": "stdout",
     "output_type": "stream",
     "text": [
      "Random no. from list: 2\n",
      "Random no. from range: 7\n"
     ]
    }
   ],
   "source": [
    "import random\n",
    "l=[1,2,3,4,5]\n",
    "print(\"Random no. from list:\", random.choice(l))\n",
    "print(\"Random no. from range:\", random.randrange(0,9))"
   ]
  },
  {
   "cell_type": "code",
   "execution_count": null,
   "id": "056b1323",
   "metadata": {},
   "outputs": [],
   "source": []
  }
 ],
 "metadata": {
  "kernelspec": {
   "display_name": "Python 3 (ipykernel)",
   "language": "python",
   "name": "python3"
  },
  "language_info": {
   "codemirror_mode": {
    "name": "ipython",
    "version": 3
   },
   "file_extension": ".py",
   "mimetype": "text/x-python",
   "name": "python",
   "nbconvert_exporter": "python",
   "pygments_lexer": "ipython3",
   "version": "3.9.7"
  }
 },
 "nbformat": 4,
 "nbformat_minor": 5
}
